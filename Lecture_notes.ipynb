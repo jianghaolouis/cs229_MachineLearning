{
 "cells": [
  {
   "cell_type": "markdown",
   "metadata": {},
   "source": [
    "# Lecture 1 Introduction\n",
    "\n",
    "1. Supervised learning \n",
    "    - regression(continous value)\n",
    "    - classification\n",
    "    pb: how to present a poin that lies in an infinite dimensional space.\n",
    "\n",
    "2. Learning theory\n",
    "    explain how the algorithms do the works and garantee the accuracy, to know the pattern\n",
    "\n",
    "3. Unsupervised learning\n",
    "    - a single image to do 3d reconstruction with clustering\n",
    "    - cocktail party problem(source seperation question): ICA in EEG data\n",
    "\n",
    "4. Reinforcement learning\n",
    "    doing the whole sequence over time of making a good/woring decision instead of one short decision."
   ]
  },
  {
   "cell_type": "markdown",
   "metadata": {},
   "source": [
    "# Lecture 2 An application of Supervised learining\n",
    "\n",
    "## 1. Linear regression\n",
    "preducting a continous value like steering direction of autonomous cars.\n",
    "\n",
    "X1: Size(feet^2) | X2: Nb of rooms | Y: price($)\n",
    " --- | --- | --- | \n",
    "2104 | 2 | 400\n",
    "\n",
    "\n",
    "m = training example  \n",
    "x = input variables/feature  \n",
    "y = output variable/target  \n",
    "(x, y) training example  \n",
    "$i^{th}$ training exampele ($x^{i}, y^{i}$)\n",
    "\n",
    "### 1.1 Hypothesis and model\n",
    "   - define a hypothesis **H** : maps from input X to outputs Y.\n",
    "   - define a learning algorithm for **H** : $ H(X) = \\theta_0 + \\theta_1*X$\n",
    "   \n",
    "$$h(x) = h_{\\Theta}(x) = \\Theta_0 + \\Theta_1*x_1 + \\Theta_2*X_2 $$ where ${\\theta}$ is the paremeter of model.\n",
    "\n",
    "for conciseness, define $X_0$ = 1\n",
    "\n",
    "$$ h(x^j) = \\sum_{i = 0}^2 \\Theta_ix_i^j = \\Theta^Tx^j $$\n",
    "\n",
    "### 1.2 Cost function:\n",
    "$$ J(\\Theta) = \\frac{1}{2} \\sum_{i=1}^m (h_\\theta(x^i) - y^i)^2 = \\frac{1}{2} (h_\\theta(X) - Y)^2$$\n",
    "* objectif : $$\\underset{\\Theta}{\\min} J(\\Theta) $$\n",
    "\n",
    "### 1.3 Fit parameters $\\Theta$ \n",
    "\n",
    "#### 1.3.1 Gradient descent\n",
    "\n",
    "- start with some $\\Theta$ (Say $\\Theta = \\vec{0} $)\n",
    "- then, updating $\\Theta$ to reduce J($\\Theta$) with learning rule:\n",
    "\n",
    "$$\\Theta_i := \\Theta_i - \\alpha \\frac{\\partial}{\\partial \\Theta_i} J(\\Theta) $$  \n",
    "with $\\alpha$ is learing rate which present the learning speed (hyperparameter set by hand)\n",
    "\n",
    "- for one example:\n",
    "$$\\frac{\\partial}{\\partial \\Theta_i} J(\\Theta) = \\frac{\\partial}{\\partial \\Theta_i} \\frac{1}{2} (h_\\theta(x) - y)^2 = (h_\\theta(x) - y)* x_i$$\n",
    "finally,we get \n",
    "$$\\Theta_i := \\Theta_i - \\alpha * (h_\\theta(x) - y)* x_i $$  \n",
    "\n",
    "- for m example, repeat until convergence:\n",
    "$$\\Theta_i := \\Theta_i - \\alpha \\frac{\\partial}{\\partial \\Theta_i}\\frac{1}{2} \\sum_{j}^m (h_\\theta(x^j) - y^j)^2 = \\Theta_i - \\alpha \\sum_{j=1}^m (h_\\theta(x^j) - y^j)*x_i^j $$  \n",
    "\n",
    "the above **Batch Gradient Descent :** in each iteration, we gonna use the entire dataset\n",
    "one altenative method is **Stochastic Gradient Descent :** incremental form which is much faster and converges to the global optimum exactly. \n",
    "\n",
    "repeat \\{  \n",
    "    for j = 1 to m \\{  \n",
    "    **for all values of i**\n",
    "        $$\\Theta_i: = \\Theta_i - \\alpha (h_\\theta(x^j) - y^j)*x_i^j $$   \n",
    "    \\}  \n",
    "\\}\n",
    "\n",
    "One another method is **Minimal Batch Gradient Descent** MBGD which is a compromise bewteen BGD and SGD: take a few data (hyperparameter : n) in one iteration:\n",
    " $$\\Theta_i: = \\Theta_i - \\alpha \\frac{1}{n} \\sum_{k=j}^{j+n}(h_\\theta(x^j) - y^j)*x_i^j $$   \n",
    "\n",
    "### 1.3.2 Normal equation\n",
    "$f : \\mathbb{R}^{m\\times n} \\mapsto \\mathbb{R}$  \n",
    " tr AB = tr BA  \n",
    " tr ABC = tr CAB = tr BCA  \n",
    "$\\triangledown_A tr AB = B^T $  \n",
    " $\\triangledown_A tr ABA^TC = CAB + C^TAB^T $   \n",
    " tr A = tr$ A^T$  \n",
    " \n",
    "  $$\\triangledown_{\\Theta} J(\\Theta) = \\triangledown_{\\Theta} \\frac{1}{2} (X\\Theta - y)^T(X\\Theta - y)  \n",
    "  =\\triangledown_{\\Theta} \\frac{1}{2} tr (X\\Theta - y)^T(X\\Theta - y) $$\n",
    "  $$= X^TX\\Theta - X^Ty \\Rightarrow 0$$\n",
    "  \n",
    "  we get Normal equations: $$X^TX\\Theta = X^Ty $$  \n",
    "  the value of θ that minimizes J(θ) is given in closed form:\n",
    "  $$\\Theta =(X^TX)^{-1}X^Ty$$\n",
    "*when the data shape is too big, the inverse of matrix X is unsolvable, so we should use Gradient descent*  \n",
    "Linear regression:  \n",
    "to minimize J($\\theta$) and return $\\theta^TX$\n",
    "\n",
    " More information: https://eli.thegreenplace.net/2014/derivation-of-the-normal-equation-for-linear-regression\n",
    " \n",
    " ### 1.4 local weight regression\n",
    "Linear regression:  \n",
    "to minimize J($\\theta$) and return $\\theta^TX$\n",
    "\n",
    "LWR: fit $\\theta$ to minimize:   \n",
    "$$\\sum_{i=1}^m w^i * (h_\\theta(x^i) - y^i)^2$$\n",
    "where $w^i = exp(-\\frac{(x^i-x)^2}{2}) \\in [0,1]$  \n",
    "or, $w^i = exp(-\\frac{(x^i-x)^2}{2\\tau}) \\in [0,1]$ and $\\tau $ is bandwidth and controls the dispersion like gaussian distribution\n"
   ]
  },
  {
   "cell_type": "markdown",
   "metadata": {},
   "source": [
    "### 1.5 Probabilistic interpretation\n",
    "This is an alternative method to define the cost function.\n",
    "Assume $y^i = \\Theta^TX^i + \\epsilon^i$ where $\\epsilon $ is random noise  \n",
    "$\\epsilon^i \\hookrightarrow  \\mathcal{N}(0,\\,\\sigma^{2})  $  \n",
    "\n",
    "$$ P(\\epsilon^i) = \\frac{1}{{\\sigma \\sqrt {2\\pi}}} e^{- {\\epsilon^i}^2/{2\\sigma ^2 }}$$\n",
    "$y^i \\hookrightarrow  \\mathcal{N}(\\Theta^ix^i,\\,\\sigma^{2}),  \\epsilon^i = y^i - \\Theta^TX^i$ , so:\n",
    "$$ P(y^i|x^i,\\Theta) = \\frac{1}{{\\sigma \\sqrt {2\\pi}}} e^{- ({y^i -\\Theta^Tx^i})^2/{2\\sigma ^2 }}$$\n",
    "why using gaussian? central limite theorem: adding some independent variables, the result return to gaussian.\n",
    "$\\epsilon^i$ is iid. independently identically distributed:\n",
    "###### Likelihood \n",
    "$$L(\\Theta) =  P(\\Theta;X, \\vec{y})=P(\\vec{y}|X; \\Theta) = \\prod_{i=1}^{m}P(y^i|x^i;\\Theta) = \\prod_{i=1}^{m} \\frac{1}{{\\sigma \\sqrt {2\\pi}}} e^{- ({y^i -\\Theta^Tx^i})^2/{2\\sigma ^2 }}$$ \n",
    "\n",
    "The notation “$P(y^i|x^i;\\Theta) $” indicates that this is the distribution of y(i) given x(i) and parameterized by θ. Note that we should not condition on θ ($“P(y^i|x^i,\\Theta)$ ”) which means two conditions $x^i$ and $\\Theta$ are satisfait at same time. since θ is not a random variable. We can also write the distribution of y(i) as as y(i) | x(i); $\\hookrightarrow  \\mathcal{N}(\\Theta^ix^i,\\,\\sigma^{2})$.\n",
    "###### Maximun likelihood\n",
    "$$ \\Theta^* = \\underset{\\Theta}{\\arg\\max} L(\\Theta) = \\underset{\\Theta}{\\arg\\max} \\log L(\\Theta) = \\underset{\\Theta}{\\arg\\max} \\sum_{i=1}^{m} - ({y^i -\\Theta^Tx^i})^2/{2\\sigma ^2 }$$  $$ = \\underset{\\Theta}{\\arg\\min} \\sum_{i=1}^{m} ({y^i -\\Theta^Tx^i})^2/{2\\sigma ^2 } = {\\arg\\min} J(\\Theta)$$  "
   ]
  },
  {
   "cell_type": "markdown",
   "metadata": {},
   "source": [
    "### 1.6 Implementation\n",
    "**sklearn.linear_model.LinearRegression(fit_intercept=True, normalize=False, copy_X=True, n_jobs=None)**\n",
    "\n",
    "Attribute | - | - \n",
    "--- | --- | ---\n",
    "coef_ | array | shape(n_features,)\n",
    "intercept_ | array | shape(n_features,)\n",
    "\n",
    "Method: | input | return\n",
    "--- |: --- |: ---\n",
    "fit(X,y,sample_weight=None) | X,y training and label data, sample_weight :Individual weights for each sample | self: an instance of self\n",
    "get_params(deep=True)| Boolean | Parameter names mapped to their values\n",
    "predict(X) | sample,shape (n_samples, n_features) | predicted value: array,shape (n_samples,)\n",
    "score(X,y,sample_weight=None) | wrt. fit() | float: Returns $R^2$ of self.predict(X) wrt. y\n",
    "set_params(**params)\n",
    "\n",
    "Metric:  \n",
    "$$\\mathbb{R}^2 = 1 - \\frac{(\\sum\\hat{y}^i - y^i)^2}{(\\sum {y}^i - \\bar{y})^2} $$\n",
    "- if R^2 <=0, the model is nul because the predict result is random.\n",
    "- if R^2 is close to 1, the model is perfect.\n"
   ]
  },
  {
   "cell_type": "code",
   "execution_count": 1,
   "metadata": {},
   "outputs": [],
   "source": [
    "import numpy as np\n",
    "import pandas as pd\n",
    "from sklearn.linear_model import LinearRegression\n",
    "import matplotlib.pyplot as plt\n",
    "import seaborn as sns"
   ]
  },
  {
   "cell_type": "code",
   "execution_count": 2,
   "metadata": {},
   "outputs": [
    {
     "name": "stdout",
     "output_type": "stream",
     "text": [
      "<class 'pandas.core.frame.DataFrame'>\n",
      "RangeIndex: 47 entries, 0 to 46\n",
      "Data columns (total 3 columns):\n",
      "area       47 non-null int64\n",
      "Room_nb    47 non-null int64\n",
      "price      47 non-null int64\n",
      "dtypes: int64(3)\n",
      "memory usage: 1.2 KB\n"
     ]
    }
   ],
   "source": [
    "df = pd.read_csv('data/houses.txt',header = None,names=['area','Room_nb','price'],delimiter = '\\t')\n",
    "df.info()"
   ]
  },
  {
   "cell_type": "code",
   "execution_count": 3,
   "metadata": {},
   "outputs": [
    {
     "data": {
      "text/html": [
       "<div>\n",
       "<style scoped>\n",
       "    .dataframe tbody tr th:only-of-type {\n",
       "        vertical-align: middle;\n",
       "    }\n",
       "\n",
       "    .dataframe tbody tr th {\n",
       "        vertical-align: top;\n",
       "    }\n",
       "\n",
       "    .dataframe thead th {\n",
       "        text-align: right;\n",
       "    }\n",
       "</style>\n",
       "<table border=\"1\" class=\"dataframe\">\n",
       "  <thead>\n",
       "    <tr style=\"text-align: right;\">\n",
       "      <th></th>\n",
       "      <th>area</th>\n",
       "      <th>Room_nb</th>\n",
       "    </tr>\n",
       "  </thead>\n",
       "  <tbody>\n",
       "    <tr>\n",
       "      <th>0</th>\n",
       "      <td>2104</td>\n",
       "      <td>3</td>\n",
       "    </tr>\n",
       "    <tr>\n",
       "      <th>1</th>\n",
       "      <td>1600</td>\n",
       "      <td>3</td>\n",
       "    </tr>\n",
       "    <tr>\n",
       "      <th>2</th>\n",
       "      <td>2400</td>\n",
       "      <td>3</td>\n",
       "    </tr>\n",
       "    <tr>\n",
       "      <th>3</th>\n",
       "      <td>1416</td>\n",
       "      <td>2</td>\n",
       "    </tr>\n",
       "    <tr>\n",
       "      <th>4</th>\n",
       "      <td>3000</td>\n",
       "      <td>4</td>\n",
       "    </tr>\n",
       "  </tbody>\n",
       "</table>\n",
       "</div>"
      ],
      "text/plain": [
       "   area  Room_nb\n",
       "0  2104        3\n",
       "1  1600        3\n",
       "2  2400        3\n",
       "3  1416        2\n",
       "4  3000        4"
      ]
     },
     "execution_count": 3,
     "metadata": {},
     "output_type": "execute_result"
    }
   ],
   "source": [
    "X = df[['area','Room_nb']]\n",
    "y = df[['price']]\n",
    "X.head()"
   ]
  },
  {
   "cell_type": "code",
   "execution_count": 4,
   "metadata": {},
   "outputs": [
    {
     "data": {
      "text/plain": [
       "Text(0.5,0,'Room number')"
      ]
     },
     "execution_count": 4,
     "metadata": {},
     "output_type": "execute_result"
    },
    {
     "data": {
      "image/png": "[encoded data removed]",
      "text/plain": [
       "<Figure size 720x360 with 2 Axes>"
      ]
     },
     "metadata": {},
     "output_type": "display_data"
    }
   ],
   "source": [
    "fig = plt.figure(figsize = (10,5))\n",
    "plt.subplot2grid((1,2),(0,0))\n",
    "plt.scatter(X.area,y, c = X.area)\n",
    "plt.xlabel('Area')\n",
    "plt.ylabel('price')\n",
    "\n",
    "plt.subplot2grid((1,2),(0,1))\n",
    "plt.scatter(X.Room_nb,y,c = X.Room_nb)\n",
    "plt.xlabel('Room number')\n"
   ]
  },
  {
   "cell_type": "code",
   "execution_count": 5,
   "metadata": {},
   "outputs": [
    {
     "data": {
      "text/plain": [
       "array([[  139.21067402, -8738.01911233]])"
      ]
     },
     "execution_count": 5,
     "metadata": {},
     "output_type": "execute_result"
    }
   ],
   "source": [
    "lr = LinearRegression().fit(X,y)\n",
    "lr.coef_"
   ]
  },
  {
   "cell_type": "code",
   "execution_count": 6,
   "metadata": {},
   "outputs": [
    {
     "data": {
      "text/plain": [
       "array([89597.9095428])"
      ]
     },
     "execution_count": 6,
     "metadata": {},
     "output_type": "execute_result"
    }
   ],
   "source": [
    "lr.intercept_"
   ]
  },
  {
   "cell_type": "code",
   "execution_count": 7,
   "metadata": {},
   "outputs": [
    {
     "data": {
      "text/plain": [
       "0.7329450180289141"
      ]
     },
     "execution_count": 7,
     "metadata": {},
     "output_type": "execute_result"
    }
   ],
   "source": [
    "lr.score(X,y)"
   ]
  },
  {
   "cell_type": "code",
   "execution_count": 8,
   "metadata": {},
   "outputs": [
    {
     "data": {
      "text/plain": [
       "<matplotlib.collections.PathCollection at 0x1a1c5a6710>"
      ]
     },
     "execution_count": 8,
     "metadata": {},
     "output_type": "execute_result"
    },
    {
     "data": {
      "image/png": "[encoded data removed]",
      "text/plain": [
       "<Figure size 432x288 with 1 Axes>"
      ]
     },
     "metadata": {},
     "output_type": "display_data"
    }
   ],
   "source": [
    "result = lr.predict(X)\n",
    "plt.scatter(result,y, c=y)"
   ]
  },
  {
   "cell_type": "code",
   "execution_count": 9,
   "metadata": {},
   "outputs": [
    {
     "data": {
      "text/plain": [
       "{'copy_X': True, 'fit_intercept': True, 'n_jobs': 1, 'normalize': False}"
      ]
     },
     "execution_count": 9,
     "metadata": {},
     "output_type": "execute_result"
    }
   ],
   "source": [
    "lr.get_params(deep=True)"
   ]
  },
  {
   "cell_type": "markdown",
   "metadata": {},
   "source": [
    "Reference :  \n",
    "[Matrix calculus](https://en.wikipedia.org/wiki/Matrix_calculus)  \n",
    "[cs229_linear regression note1](http://cs229.stanford.edu/notes/cs229-notes1.pdf)  \n",
    "[sklearn_LR](http://scikit-learn.org/stable/modules/generated/sklearn.linear_model.LinearRegression.html)"
   ]
  }
 ],
 "metadata": {
  "kernelspec": {
   "display_name": "Python 3",
   "language": "python",
   "name": "python3"
  },
  "language_info": {
   "codemirror_mode": {
    "name": "ipython",
    "version": 3
   },
   "file_extension": ".py",
   "mimetype": "text/x-python",
   "name": "python",
   "nbconvert_exporter": "python",
   "pygments_lexer": "ipython3",
   "version": "3.6.5"
  }
 },
 "nbformat": 4,
 "nbformat_minor": 2
}
